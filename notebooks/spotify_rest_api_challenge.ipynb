{
 "cells": [
  {
   "cell_type": "markdown",
   "id": "ef05c1d6",
   "metadata": {},
   "source": [
    "![spotify_logo](../img/spotify_logo.png)\n",
    "\n",
    "# Spotify REST API Challenge\n",
    "\n",
    "__What to listen?__\n",
    "\n",
    "Create your own playlist based on the related artists and their most popular tracks using the [Spotify REST API](https://developer.spotify.com/)"
   ]
  },
  {
   "cell_type": "code",
   "execution_count": 92,
   "id": "17a49776",
   "metadata": {},
   "outputs": [],
   "source": [
    "# Imports\n",
    "import pandas as pd\n",
    "import numpy as np\n",
    "import requests\n"
   ]
  },
  {
   "cell_type": "markdown",
   "id": "4e97884c",
   "metadata": {},
   "source": [
    "### Get access!!!\n",
    "\n",
    "Get your `client_id` and `client_secret` to generate your __token__ access"
   ]
  },
  {
   "cell_type": "code",
   "execution_count": 93,
   "id": "7b5d2e52",
   "metadata": {},
   "outputs": [],
   "source": [
    "# Generate token with a POST request\n",
    "\n",
    "client_id = '600f9de97a3443d19aa0cc5e832269ee' # CLIENT ID\n",
    "client_secret = '0ac7270ad5f148249d82ddb608e3537c' # CLIENT SECRET\n",
    "auth_url = 'https://accounts.spotify.com/api/token'"
   ]
  },
  {
   "cell_type": "code",
   "execution_count": 94,
   "id": "c7901d1e",
   "metadata": {},
   "outputs": [],
   "source": [
    "auth_response = requests.post(auth_url, {'grant_type': 'client_credentials',\n",
    "                                         'client_id': client_id,\n",
    "                                         'client_secret': client_secret}).json()"
   ]
  },
  {
   "cell_type": "code",
   "execution_count": 95,
   "id": "262e7e18",
   "metadata": {},
   "outputs": [
    {
     "data": {
      "text/plain": [
       "{'access_token': 'BQBdB7OL_yXpdbbFzB6JJCzRgkTScPFBWXvUYMVieUTiurv6VjlDC91B_NUGov2Lh0WZH6Pn4rjLmcqMmJN88cDudD8WRmgSpN3EmPmI6DOfwvwb6BY',\n",
       " 'token_type': 'Bearer',\n",
       " 'expires_in': 3600}"
      ]
     },
     "execution_count": 95,
     "metadata": {},
     "output_type": "execute_result"
    }
   ],
   "source": [
    "access_token = auth_response['access_token']\n",
    "auth_response"
   ]
  },
  {
   "cell_type": "markdown",
   "id": "e617caff",
   "metadata": {},
   "source": [
    "### Set your main variables!!!\n",
    "\n",
    "Set the `base_uri` (i.e.: end-point), parameters and `headers` for your __GET__ operations"
   ]
  },
  {
   "cell_type": "code",
   "execution_count": 96,
   "id": "62e6d4fb",
   "metadata": {},
   "outputs": [],
   "source": [
    "# Base end-point construction\n",
    "\n",
    "base_url = 'https://api.spotify.com/v1/'\n",
    "resource = 'artists/'\n",
    "\n",
    "header_info = {'Authorization': 'Bearer {token}'.format(token=access_token)}"
   ]
  },
  {
   "cell_type": "markdown",
   "id": "16660a9b",
   "metadata": {},
   "source": [
    "### Create your new playlist!!!\n",
    "\n",
    "Use [`/related-artists`](https://developer.spotify.com/documentation/web-api/reference/#/operations/get-an-artists-related-artists) and [`/top-tracks`](https://developer.spotify.com/documentation/web-api/reference/#/operations/get-an-artists-top-tracks) in order to get the data that you need.\n",
    "\n",
    "__Here you have the different artists to start with:__\n",
    "\n",
    "- __Option 1:__ 0L8ExT028jH3ddEcZwqJJ5\n",
    "\n",
    "- __Option 2:__ 4Y7tXHSEejGu1vQ9bwDdXW\n",
    "\n",
    "- __Option 3:__ 6FBDaR13swtiWwGhX1WQsP\n",
    "\n",
    "- __Option 4:__ 0kyQwKHCZnKE7kTXkxXjrB\n",
    "\n",
    "- __Option 5:__ 2d0hyoQ5ynDBnkvAbJKORj\n",
    "\n",
    "- __Option 6:__ 3bgsNtcf5d5h9jbQbohfBK\n",
    "\n",
    "- __Option 7:__ 7mWCSSOYqm4E9mB7V4ot6S\n",
    "\n",
    "- __Option 8:__ 64KEffDW9EtZ1y2vBYgq8T\n",
    "\n",
    "- __Option 9:__ 4k1ELeJKT1ISyDv8JivPpB\n",
    "\n",
    "- __Option 10:__ 4Z8W4fKeB5YxbusRsdQVPb\n",
    "\n",
    "- __Option 11:__ 26dSoYclwsYLMAKD3tpOr4\n",
    "\n",
    "- __Option 12:__ 7y97mc3bZRFXzT2szRM4L4\n",
    "\n",
    "- __Option 13:__ 1w5Kfo2jwwIPruYS2UWh56\n",
    "\n",
    "\n",
    "> Remember to check the [Requests](https://requests.readthedocs.io/en/latest/) library docs!!!\n",
    "\n",
    "---"
   ]
  },
  {
   "cell_type": "code",
   "execution_count": 97,
   "id": "91bb23d7",
   "metadata": {},
   "outputs": [],
   "source": [
    "artist_id = '4Y7tXHSEejGu1vQ9bwDdXW'\n",
    "method = '/related-artists'"
   ]
  },
  {
   "cell_type": "code",
   "execution_count": 98,
   "id": "04f85940",
   "metadata": {},
   "outputs": [
    {
     "data": {
      "text/plain": [
       "'https://api.spotify.com/v1/artists/4Y7tXHSEejGu1vQ9bwDdXW'"
      ]
     },
     "execution_count": 98,
     "metadata": {},
     "output_type": "execute_result"
    }
   ],
   "source": [
    "# Here you can complete your endpoint URI\n",
    "\n",
    "full_endpoint = base_url + resource + artist_id #+ method\n",
    "full_endpoint"
   ]
  },
  {
   "cell_type": "code",
   "execution_count": 99,
   "id": "50ec3959",
   "metadata": {},
   "outputs": [
    {
     "data": {
      "text/plain": [
       "<Response [200]>"
      ]
     },
     "execution_count": 99,
     "metadata": {},
     "output_type": "execute_result"
    }
   ],
   "source": [
    "# Start building your playlist!!!\n",
    "related_artists_response = requests.get(full_endpoint, headers = header_info)#.json\n",
    "#related_artists_response.status_code # esto sirve para ver el código de error\n",
    "related_artists_response"
   ]
  },
  {
   "cell_type": "code",
   "execution_count": 102,
   "id": "3c0892e3",
   "metadata": {},
   "outputs": [
    {
     "data": {
      "text/plain": [
       "dict_keys(['external_urls', 'followers', 'genres', 'href', 'id', 'images', 'name', 'popularity', 'type', 'uri'])"
      ]
     },
     "execution_count": 102,
     "metadata": {},
     "output_type": "execute_result"
    }
   ],
   "source": [
    "related_artists_json = related_artists_response.json()\n",
    "#len(related_artists_json['artists'])\n",
    "#type(related_artists_json)\n",
    "related_artists_json.keys()\n",
    "#len(related_artists_json)"
   ]
  },
  {
   "cell_type": "code",
   "execution_count": 107,
   "id": "538e0253",
   "metadata": {},
   "outputs": [
    {
     "data": {
      "text/plain": [
       "{'id': ['4Y7tXHSEejGu1vQ9bwDdXW'],\n",
       " 'name': ['Fatboy Slim'],\n",
       " 'genres': [['big beat', 'electronica']],\n",
       " 'popularity': [61],\n",
       " 'followers': [{'href': None, 'total': 1167313}]}"
      ]
     },
     "execution_count": 107,
     "metadata": {},
     "output_type": "execute_result"
    }
   ],
   "source": [
    "dict_artist = dict((key, [related_artists_json[key]]) for key in ['id', 'name', 'genres', 'popularity','followers'] if key in related_artists_json)\n",
    "dict_artist"
   ]
  },
  {
   "cell_type": "code",
   "execution_count": 108,
   "id": "8dfab0e9",
   "metadata": {},
   "outputs": [],
   "source": [
    "df_artist = pd.DataFrame(dict_artist)"
   ]
  },
  {
   "cell_type": "code",
   "execution_count": 110,
   "id": "cd8cb443",
   "metadata": {},
   "outputs": [
    {
     "data": {
      "text/html": [
       "<div>\n",
       "<style scoped>\n",
       "    .dataframe tbody tr th:only-of-type {\n",
       "        vertical-align: middle;\n",
       "    }\n",
       "\n",
       "    .dataframe tbody tr th {\n",
       "        vertical-align: top;\n",
       "    }\n",
       "\n",
       "    .dataframe thead th {\n",
       "        text-align: right;\n",
       "    }\n",
       "</style>\n",
       "<table border=\"1\" class=\"dataframe\">\n",
       "  <thead>\n",
       "    <tr style=\"text-align: right;\">\n",
       "      <th></th>\n",
       "      <th>id</th>\n",
       "      <th>name</th>\n",
       "      <th>genres</th>\n",
       "      <th>popularity</th>\n",
       "      <th>followers</th>\n",
       "    </tr>\n",
       "  </thead>\n",
       "  <tbody>\n",
       "    <tr>\n",
       "      <th>0</th>\n",
       "      <td>4Y7tXHSEejGu1vQ9bwDdXW</td>\n",
       "      <td>Fatboy Slim</td>\n",
       "      <td>[big beat, electronica]</td>\n",
       "      <td>61</td>\n",
       "      <td>{'href': None, 'total': 1167313}</td>\n",
       "    </tr>\n",
       "  </tbody>\n",
       "</table>\n",
       "</div>"
      ],
      "text/plain": [
       "                       id         name                   genres  popularity  \\\n",
       "0  4Y7tXHSEejGu1vQ9bwDdXW  Fatboy Slim  [big beat, electronica]          61   \n",
       "\n",
       "                          followers  \n",
       "0  {'href': None, 'total': 1167313}  "
      ]
     },
     "execution_count": 110,
     "metadata": {},
     "output_type": "execute_result"
    }
   ],
   "source": [
    "df_artist"
   ]
  },
  {
   "cell_type": "code",
   "execution_count": 64,
   "id": "2560731c",
   "metadata": {},
   "outputs": [
    {
     "data": {
      "text/plain": [
       "'https://api.spotify.com/v1/artists/4Y7tXHSEejGu1vQ9bwDdXW/top-tracks?market=ES'"
      ]
     },
     "execution_count": 64,
     "metadata": {},
     "output_type": "execute_result"
    }
   ],
   "source": [
    "#Primero construimos nuestro endpoint para top tracks\n",
    "artist_id = '4Y7tXHSEejGu1vQ9bwDdXW'\n",
    "\n",
    "method2 = '/top-tracks' \n",
    "\n",
    "argument = '?market=ES' #hay que tener en cuenta lo que aparece en la documentación\n",
    "\n",
    "full_endpoint2 = base_url + resource + artist_id + method2 + argument\n",
    "full_endpoint2\n"
   ]
  },
  {
   "cell_type": "code",
   "execution_count": 65,
   "id": "4a198303",
   "metadata": {},
   "outputs": [
    {
     "data": {
      "text/plain": [
       "200"
      ]
     },
     "execution_count": 65,
     "metadata": {},
     "output_type": "execute_result"
    }
   ],
   "source": [
    "top_track_response = requests.get(full_endpoint2, headers = header_info)\n",
    "top_track_response.status_code"
   ]
  },
  {
   "cell_type": "code",
   "execution_count": 66,
   "id": "1ae6ac0c",
   "metadata": {},
   "outputs": [
    {
     "data": {
      "text/plain": [
       "17"
      ]
     },
     "execution_count": 66,
     "metadata": {},
     "output_type": "execute_result"
    }
   ],
   "source": [
    "top_track_json = top_track_response.json()\n",
    "type(top_track_json)\n",
    "len(top_track_json['tracks'][0])"
   ]
  },
  {
   "cell_type": "code",
   "execution_count": 67,
   "id": "e84dc809",
   "metadata": {},
   "outputs": [
    {
     "data": {
      "text/plain": [
       "['Praise You (Radio Edit)',\n",
       " 'Right Here Right Now',\n",
       " 'Rockafeller Skank',\n",
       " 'Praise You',\n",
       " 'Praise You (Purple Disco Machine Remix) (Radio Edit)',\n",
       " 'Weapon of Choice',\n",
       " 'Rockafeller Skank (Short Edit)',\n",
       " 'Right Here Right Now (Radio Edit) (CamelPhat Remix)',\n",
       " 'Speed Trials On Acid (feat. Dan Diamond) (LF SYSTEM Remix)',\n",
       " 'Gangster Trippin']"
      ]
     },
     "execution_count": 67,
     "metadata": {},
     "output_type": "execute_result"
    }
   ],
   "source": [
    "[top_track_json['tracks'][i]['name'] for i in range(len(top_track_json['tracks']))]"
   ]
  },
  {
   "cell_type": "code",
   "execution_count": 68,
   "id": "41973b52",
   "metadata": {},
   "outputs": [
    {
     "data": {
      "text/plain": [
       "{'tracks': [{'album': {'album_type': 'single',\n",
       "    'artists': [{'external_urls': {'spotify': 'https://open.spotify.com/artist/4Y7tXHSEejGu1vQ9bwDdXW'},\n",
       "      'href': 'https://api.spotify.com/v1/artists/4Y7tXHSEejGu1vQ9bwDdXW',\n",
       "      'id': '4Y7tXHSEejGu1vQ9bwDdXW',\n",
       "      'name': 'Fatboy Slim',\n",
       "      'type': 'artist',\n",
       "      'uri': 'spotify:artist:4Y7tXHSEejGu1vQ9bwDdXW'}],\n",
       "    'external_urls': {'spotify': 'https://open.spotify.com/album/7zApUw7AHTFQQ6tUkDr5KD'},\n",
       "    'href': 'https://api.spotify.com/v1/albums/7zApUw7AHTFQQ6tUkDr5KD',\n",
       "    'id': '7zApUw7AHTFQQ6tUkDr5KD',\n",
       "    'images': [{'height': 640,\n",
       "      'url': 'https://i.scdn.co/image/ab67616d0000b27385021f0939d5eee23284d38a',\n",
       "      'width': 640},\n",
       "     {'height': 300,\n",
       "      'url': 'https://i.scdn.co/image/ab67616d00001e0285021f0939d5eee23284d38a',\n",
       "      'width': 300},\n",
       "     {'height': 64,\n",
       "      'url': 'https://i.scdn.co/image/ab67616d0000485185021f0939d5eee23284d38a',\n",
       "      'width': 64}],\n",
       "    'is_playable': True,\n",
       "    'name': 'Praise You EP',\n",
       "    'release_date': '2023-09-01',\n",
       "    'release_date_precision': 'day',\n",
       "    'total_tracks': 7,\n",
       "    'type': 'album',\n",
       "    'uri': 'spotify:album:7zApUw7AHTFQQ6tUkDr5KD'},\n",
       "   'artists': [{'external_urls': {'spotify': 'https://open.spotify.com/artist/4Y7tXHSEejGu1vQ9bwDdXW'},\n",
       "     'href': 'https://api.spotify.com/v1/artists/4Y7tXHSEejGu1vQ9bwDdXW',\n",
       "     'id': '4Y7tXHSEejGu1vQ9bwDdXW',\n",
       "     'name': 'Fatboy Slim',\n",
       "     'type': 'artist',\n",
       "     'uri': 'spotify:artist:4Y7tXHSEejGu1vQ9bwDdXW'}],\n",
       "   'disc_number': 1,\n",
       "   'duration_ms': 227973,\n",
       "   'explicit': False,\n",
       "   'external_ids': {'isrc': 'GBBMQ0600005'},\n",
       "   'external_urls': {'spotify': 'https://open.spotify.com/track/1j8GQQGyC26O1TeW4LLvjk'},\n",
       "   'href': 'https://api.spotify.com/v1/tracks/1j8GQQGyC26O1TeW4LLvjk',\n",
       "   'id': '1j8GQQGyC26O1TeW4LLvjk',\n",
       "   'is_local': False,\n",
       "   'is_playable': True,\n",
       "   'name': 'Praise You (Radio Edit)',\n",
       "   'popularity': 23,\n",
       "   'preview_url': 'https://p.scdn.co/mp3-preview/c0a0d68a0cbe569814c1a02ea0eb0cc5f130c9a2?cid=600f9de97a3443d19aa0cc5e832269ee',\n",
       "   'track_number': 1,\n",
       "   'type': 'track',\n",
       "   'uri': 'spotify:track:1j8GQQGyC26O1TeW4LLvjk'},\n",
       "  {'album': {'album_type': 'album',\n",
       "    'artists': [{'external_urls': {'spotify': 'https://open.spotify.com/artist/4Y7tXHSEejGu1vQ9bwDdXW'},\n",
       "      'href': 'https://api.spotify.com/v1/artists/4Y7tXHSEejGu1vQ9bwDdXW',\n",
       "      'id': '4Y7tXHSEejGu1vQ9bwDdXW',\n",
       "      'name': 'Fatboy Slim',\n",
       "      'type': 'artist',\n",
       "      'uri': 'spotify:artist:4Y7tXHSEejGu1vQ9bwDdXW'}],\n",
       "    'external_urls': {'spotify': 'https://open.spotify.com/album/0J43YxxLFPZxIrCd12LRuN'},\n",
       "    'href': 'https://api.spotify.com/v1/albums/0J43YxxLFPZxIrCd12LRuN',\n",
       "    'id': '0J43YxxLFPZxIrCd12LRuN',\n",
       "    'images': [{'height': 640,\n",
       "      'url': 'https://i.scdn.co/image/ab67616d0000b27338ad25f8e0a63d42e6f0b6fc',\n",
       "      'width': 640},\n",
       "     {'height': 300,\n",
       "      'url': 'https://i.scdn.co/image/ab67616d00001e0238ad25f8e0a63d42e6f0b6fc',\n",
       "      'width': 300},\n",
       "     {'height': 64,\n",
       "      'url': 'https://i.scdn.co/image/ab67616d0000485138ad25f8e0a63d42e6f0b6fc',\n",
       "      'width': 64}],\n",
       "    'is_playable': True,\n",
       "    'name': \"You've Come a Long Way Baby\",\n",
       "    'release_date': '1998-01-01',\n",
       "    'release_date_precision': 'day',\n",
       "    'total_tracks': 11,\n",
       "    'type': 'album',\n",
       "    'uri': 'spotify:album:0J43YxxLFPZxIrCd12LRuN'},\n",
       "   'artists': [{'external_urls': {'spotify': 'https://open.spotify.com/artist/4Y7tXHSEejGu1vQ9bwDdXW'},\n",
       "     'href': 'https://api.spotify.com/v1/artists/4Y7tXHSEejGu1vQ9bwDdXW',\n",
       "     'id': '4Y7tXHSEejGu1vQ9bwDdXW',\n",
       "     'name': 'Fatboy Slim',\n",
       "     'type': 'artist',\n",
       "     'uri': 'spotify:artist:4Y7tXHSEejGu1vQ9bwDdXW'}],\n",
       "   'disc_number': 1,\n",
       "   'duration_ms': 387706,\n",
       "   'explicit': False,\n",
       "   'external_ids': {'isrc': 'GBBMQ9900047'},\n",
       "   'external_urls': {'spotify': 'https://open.spotify.com/track/5Sh9v7RwibuV34tdjscwx5'},\n",
       "   'href': 'https://api.spotify.com/v1/tracks/5Sh9v7RwibuV34tdjscwx5',\n",
       "   'id': '5Sh9v7RwibuV34tdjscwx5',\n",
       "   'is_local': False,\n",
       "   'is_playable': True,\n",
       "   'name': 'Right Here Right Now',\n",
       "   'popularity': 41,\n",
       "   'preview_url': 'https://p.scdn.co/mp3-preview/f89c979113f5a530b06b807d5c1044ba6d0af42b?cid=600f9de97a3443d19aa0cc5e832269ee',\n",
       "   'track_number': 1,\n",
       "   'type': 'track',\n",
       "   'uri': 'spotify:track:5Sh9v7RwibuV34tdjscwx5'},\n",
       "  {'album': {'album_type': 'album',\n",
       "    'artists': [{'external_urls': {'spotify': 'https://open.spotify.com/artist/4Y7tXHSEejGu1vQ9bwDdXW'},\n",
       "      'href': 'https://api.spotify.com/v1/artists/4Y7tXHSEejGu1vQ9bwDdXW',\n",
       "      'id': '4Y7tXHSEejGu1vQ9bwDdXW',\n",
       "      'name': 'Fatboy Slim',\n",
       "      'type': 'artist',\n",
       "      'uri': 'spotify:artist:4Y7tXHSEejGu1vQ9bwDdXW'}],\n",
       "    'external_urls': {'spotify': 'https://open.spotify.com/album/0J43YxxLFPZxIrCd12LRuN'},\n",
       "    'href': 'https://api.spotify.com/v1/albums/0J43YxxLFPZxIrCd12LRuN',\n",
       "    'id': '0J43YxxLFPZxIrCd12LRuN',\n",
       "    'images': [{'height': 640,\n",
       "      'url': 'https://i.scdn.co/image/ab67616d0000b27338ad25f8e0a63d42e6f0b6fc',\n",
       "      'width': 640},\n",
       "     {'height': 300,\n",
       "      'url': 'https://i.scdn.co/image/ab67616d00001e0238ad25f8e0a63d42e6f0b6fc',\n",
       "      'width': 300},\n",
       "     {'height': 64,\n",
       "      'url': 'https://i.scdn.co/image/ab67616d0000485138ad25f8e0a63d42e6f0b6fc',\n",
       "      'width': 64}],\n",
       "    'is_playable': True,\n",
       "    'name': \"You've Come a Long Way Baby\",\n",
       "    'release_date': '1998-01-01',\n",
       "    'release_date_precision': 'day',\n",
       "    'total_tracks': 11,\n",
       "    'type': 'album',\n",
       "    'uri': 'spotify:album:0J43YxxLFPZxIrCd12LRuN'},\n",
       "   'artists': [{'external_urls': {'spotify': 'https://open.spotify.com/artist/4Y7tXHSEejGu1vQ9bwDdXW'},\n",
       "     'href': 'https://api.spotify.com/v1/artists/4Y7tXHSEejGu1vQ9bwDdXW',\n",
       "     'id': '4Y7tXHSEejGu1vQ9bwDdXW',\n",
       "     'name': 'Fatboy Slim',\n",
       "     'type': 'artist',\n",
       "     'uri': 'spotify:artist:4Y7tXHSEejGu1vQ9bwDdXW'}],\n",
       "   'disc_number': 1,\n",
       "   'duration_ms': 413880,\n",
       "   'explicit': False,\n",
       "   'external_ids': {'isrc': 'GBBMQ9900048'},\n",
       "   'external_urls': {'spotify': 'https://open.spotify.com/track/5AgCO3dc2kuSicCsw09YCA'},\n",
       "   'href': 'https://api.spotify.com/v1/tracks/5AgCO3dc2kuSicCsw09YCA',\n",
       "   'id': '5AgCO3dc2kuSicCsw09YCA',\n",
       "   'is_local': False,\n",
       "   'is_playable': True,\n",
       "   'name': 'Rockafeller Skank',\n",
       "   'popularity': 39,\n",
       "   'preview_url': 'https://p.scdn.co/mp3-preview/9e4b75c6581f61158a4d8d1bac742c186417f6e9?cid=600f9de97a3443d19aa0cc5e832269ee',\n",
       "   'track_number': 2,\n",
       "   'type': 'track',\n",
       "   'uri': 'spotify:track:5AgCO3dc2kuSicCsw09YCA'},\n",
       "  {'album': {'album_type': 'album',\n",
       "    'artists': [{'external_urls': {'spotify': 'https://open.spotify.com/artist/4Y7tXHSEejGu1vQ9bwDdXW'},\n",
       "      'href': 'https://api.spotify.com/v1/artists/4Y7tXHSEejGu1vQ9bwDdXW',\n",
       "      'id': '4Y7tXHSEejGu1vQ9bwDdXW',\n",
       "      'name': 'Fatboy Slim',\n",
       "      'type': 'artist',\n",
       "      'uri': 'spotify:artist:4Y7tXHSEejGu1vQ9bwDdXW'}],\n",
       "    'external_urls': {'spotify': 'https://open.spotify.com/album/0J43YxxLFPZxIrCd12LRuN'},\n",
       "    'href': 'https://api.spotify.com/v1/albums/0J43YxxLFPZxIrCd12LRuN',\n",
       "    'id': '0J43YxxLFPZxIrCd12LRuN',\n",
       "    'images': [{'height': 640,\n",
       "      'url': 'https://i.scdn.co/image/ab67616d0000b27338ad25f8e0a63d42e6f0b6fc',\n",
       "      'width': 640},\n",
       "     {'height': 300,\n",
       "      'url': 'https://i.scdn.co/image/ab67616d00001e0238ad25f8e0a63d42e6f0b6fc',\n",
       "      'width': 300},\n",
       "     {'height': 64,\n",
       "      'url': 'https://i.scdn.co/image/ab67616d0000485138ad25f8e0a63d42e6f0b6fc',\n",
       "      'width': 64}],\n",
       "    'is_playable': True,\n",
       "    'name': \"You've Come a Long Way Baby\",\n",
       "    'release_date': '1998-01-01',\n",
       "    'release_date_precision': 'day',\n",
       "    'total_tracks': 11,\n",
       "    'type': 'album',\n",
       "    'uri': 'spotify:album:0J43YxxLFPZxIrCd12LRuN'},\n",
       "   'artists': [{'external_urls': {'spotify': 'https://open.spotify.com/artist/4Y7tXHSEejGu1vQ9bwDdXW'},\n",
       "     'href': 'https://api.spotify.com/v1/artists/4Y7tXHSEejGu1vQ9bwDdXW',\n",
       "     'id': '4Y7tXHSEejGu1vQ9bwDdXW',\n",
       "     'name': 'Fatboy Slim',\n",
       "     'type': 'artist',\n",
       "     'uri': 'spotify:artist:4Y7tXHSEejGu1vQ9bwDdXW'}],\n",
       "   'disc_number': 1,\n",
       "   'duration_ms': 324240,\n",
       "   'explicit': False,\n",
       "   'external_ids': {'isrc': 'GBBMQ9900055'},\n",
       "   'external_urls': {'spotify': 'https://open.spotify.com/track/1FS21kclHQ2vVi3U1ZxETc'},\n",
       "   'href': 'https://api.spotify.com/v1/tracks/1FS21kclHQ2vVi3U1ZxETc',\n",
       "   'id': '1FS21kclHQ2vVi3U1ZxETc',\n",
       "   'is_local': False,\n",
       "   'is_playable': True,\n",
       "   'name': 'Praise You',\n",
       "   'popularity': 38,\n",
       "   'preview_url': 'https://p.scdn.co/mp3-preview/d310be8b520a0a54b672043558b18406d6c15ca7?cid=600f9de97a3443d19aa0cc5e832269ee',\n",
       "   'track_number': 9,\n",
       "   'type': 'track',\n",
       "   'uri': 'spotify:track:1FS21kclHQ2vVi3U1ZxETc'},\n",
       "  {'album': {'album_type': 'single',\n",
       "    'artists': [{'external_urls': {'spotify': 'https://open.spotify.com/artist/4Y7tXHSEejGu1vQ9bwDdXW'},\n",
       "      'href': 'https://api.spotify.com/v1/artists/4Y7tXHSEejGu1vQ9bwDdXW',\n",
       "      'id': '4Y7tXHSEejGu1vQ9bwDdXW',\n",
       "      'name': 'Fatboy Slim',\n",
       "      'type': 'artist',\n",
       "      'uri': 'spotify:artist:4Y7tXHSEejGu1vQ9bwDdXW'},\n",
       "     {'external_urls': {'spotify': 'https://open.spotify.com/artist/2WBJQGf1bT1kxuoqziH5g4'},\n",
       "      'href': 'https://api.spotify.com/v1/artists/2WBJQGf1bT1kxuoqziH5g4',\n",
       "      'id': '2WBJQGf1bT1kxuoqziH5g4',\n",
       "      'name': 'Purple Disco Machine',\n",
       "      'type': 'artist',\n",
       "      'uri': 'spotify:artist:2WBJQGf1bT1kxuoqziH5g4'}],\n",
       "    'external_urls': {'spotify': 'https://open.spotify.com/album/3EGrKgxKowCjAuoySYnTij'},\n",
       "    'href': 'https://api.spotify.com/v1/albums/3EGrKgxKowCjAuoySYnTij',\n",
       "    'id': '3EGrKgxKowCjAuoySYnTij',\n",
       "    'images': [{'height': 640,\n",
       "      'url': 'https://i.scdn.co/image/ab67616d0000b273389509c2702b37c69cd9f16a',\n",
       "      'width': 640},\n",
       "     {'height': 300,\n",
       "      'url': 'https://i.scdn.co/image/ab67616d00001e02389509c2702b37c69cd9f16a',\n",
       "      'width': 300},\n",
       "     {'height': 64,\n",
       "      'url': 'https://i.scdn.co/image/ab67616d00004851389509c2702b37c69cd9f16a',\n",
       "      'width': 64}],\n",
       "    'is_playable': True,\n",
       "    'name': 'Praise You (Purple Disco Machine Remix)',\n",
       "    'release_date': '2018-11-09',\n",
       "    'release_date_precision': 'day',\n",
       "    'total_tracks': 2,\n",
       "    'type': 'album',\n",
       "    'uri': 'spotify:album:3EGrKgxKowCjAuoySYnTij'},\n",
       "   'artists': [{'external_urls': {'spotify': 'https://open.spotify.com/artist/4Y7tXHSEejGu1vQ9bwDdXW'},\n",
       "     'href': 'https://api.spotify.com/v1/artists/4Y7tXHSEejGu1vQ9bwDdXW',\n",
       "     'id': '4Y7tXHSEejGu1vQ9bwDdXW',\n",
       "     'name': 'Fatboy Slim',\n",
       "     'type': 'artist',\n",
       "     'uri': 'spotify:artist:4Y7tXHSEejGu1vQ9bwDdXW'},\n",
       "    {'external_urls': {'spotify': 'https://open.spotify.com/artist/2WBJQGf1bT1kxuoqziH5g4'},\n",
       "     'href': 'https://api.spotify.com/v1/artists/2WBJQGf1bT1kxuoqziH5g4',\n",
       "     'id': '2WBJQGf1bT1kxuoqziH5g4',\n",
       "     'name': 'Purple Disco Machine',\n",
       "     'type': 'artist',\n",
       "     'uri': 'spotify:artist:2WBJQGf1bT1kxuoqziH5g4'}],\n",
       "   'disc_number': 1,\n",
       "   'duration_ms': 230162,\n",
       "   'explicit': False,\n",
       "   'external_ids': {'isrc': 'GB5KW1803026'},\n",
       "   'external_urls': {'spotify': 'https://open.spotify.com/track/6RzRRbZxWWFm7ih6djhUzx'},\n",
       "   'href': 'https://api.spotify.com/v1/tracks/6RzRRbZxWWFm7ih6djhUzx',\n",
       "   'id': '6RzRRbZxWWFm7ih6djhUzx',\n",
       "   'is_local': False,\n",
       "   'is_playable': True,\n",
       "   'name': 'Praise You (Purple Disco Machine Remix) (Radio Edit)',\n",
       "   'popularity': 20,\n",
       "   'preview_url': 'https://p.scdn.co/mp3-preview/30ec74242ebf721aff8d96a6800c5d1026e37c3f?cid=600f9de97a3443d19aa0cc5e832269ee',\n",
       "   'track_number': 1,\n",
       "   'type': 'track',\n",
       "   'uri': 'spotify:track:6RzRRbZxWWFm7ih6djhUzx'},\n",
       "  {'album': {'album_type': 'compilation',\n",
       "    'artists': [{'external_urls': {'spotify': 'https://open.spotify.com/artist/4Y7tXHSEejGu1vQ9bwDdXW'},\n",
       "      'href': 'https://api.spotify.com/v1/artists/4Y7tXHSEejGu1vQ9bwDdXW',\n",
       "      'id': '4Y7tXHSEejGu1vQ9bwDdXW',\n",
       "      'name': 'Fatboy Slim',\n",
       "      'type': 'artist',\n",
       "      'uri': 'spotify:artist:4Y7tXHSEejGu1vQ9bwDdXW'}],\n",
       "    'external_urls': {'spotify': 'https://open.spotify.com/album/3lM3FSjPRnLAj83p4KUhkR'},\n",
       "    'href': 'https://api.spotify.com/v1/albums/3lM3FSjPRnLAj83p4KUhkR',\n",
       "    'id': '3lM3FSjPRnLAj83p4KUhkR',\n",
       "    'images': [{'height': 640,\n",
       "      'url': 'https://i.scdn.co/image/ab67616d0000b273ea097abbc108fc3c19a0a873',\n",
       "      'width': 640},\n",
       "     {'height': 300,\n",
       "      'url': 'https://i.scdn.co/image/ab67616d00001e02ea097abbc108fc3c19a0a873',\n",
       "      'width': 300},\n",
       "     {'height': 64,\n",
       "      'url': 'https://i.scdn.co/image/ab67616d00004851ea097abbc108fc3c19a0a873',\n",
       "      'width': 64}],\n",
       "    'is_playable': True,\n",
       "    'name': 'Why Try Harder - The Greatest Hits',\n",
       "    'release_date': '2006-06-18',\n",
       "    'release_date_precision': 'day',\n",
       "    'total_tracks': 22,\n",
       "    'type': 'album',\n",
       "    'uri': 'spotify:album:3lM3FSjPRnLAj83p4KUhkR'},\n",
       "   'artists': [{'external_urls': {'spotify': 'https://open.spotify.com/artist/4Y7tXHSEejGu1vQ9bwDdXW'},\n",
       "     'href': 'https://api.spotify.com/v1/artists/4Y7tXHSEejGu1vQ9bwDdXW',\n",
       "     'id': '4Y7tXHSEejGu1vQ9bwDdXW',\n",
       "     'name': 'Fatboy Slim',\n",
       "     'type': 'artist',\n",
       "     'uri': 'spotify:artist:4Y7tXHSEejGu1vQ9bwDdXW'}],\n",
       "   'disc_number': 1,\n",
       "   'duration_ms': 219813,\n",
       "   'explicit': False,\n",
       "   'external_ids': {'isrc': 'GBBMQ0600006'},\n",
       "   'external_urls': {'spotify': 'https://open.spotify.com/track/57uygrPhl1rrY66TwfVF41'},\n",
       "   'href': 'https://api.spotify.com/v1/tracks/57uygrPhl1rrY66TwfVF41',\n",
       "   'id': '57uygrPhl1rrY66TwfVF41',\n",
       "   'is_local': False,\n",
       "   'is_playable': True,\n",
       "   'name': 'Weapon of Choice',\n",
       "   'popularity': 17,\n",
       "   'preview_url': 'https://p.scdn.co/mp3-preview/593b92df286edb864ca99efe795bc4fd5e0f7957?cid=600f9de97a3443d19aa0cc5e832269ee',\n",
       "   'track_number': 4,\n",
       "   'type': 'track',\n",
       "   'uri': 'spotify:track:57uygrPhl1rrY66TwfVF41'},\n",
       "  {'album': {'album_type': 'single',\n",
       "    'artists': [{'external_urls': {'spotify': 'https://open.spotify.com/artist/4Y7tXHSEejGu1vQ9bwDdXW'},\n",
       "      'href': 'https://api.spotify.com/v1/artists/4Y7tXHSEejGu1vQ9bwDdXW',\n",
       "      'id': '4Y7tXHSEejGu1vQ9bwDdXW',\n",
       "      'name': 'Fatboy Slim',\n",
       "      'type': 'artist',\n",
       "      'uri': 'spotify:artist:4Y7tXHSEejGu1vQ9bwDdXW'}],\n",
       "    'external_urls': {'spotify': 'https://open.spotify.com/album/0JmA87Y5Eyx0YcTBkcUoT9'},\n",
       "    'href': 'https://api.spotify.com/v1/albums/0JmA87Y5Eyx0YcTBkcUoT9',\n",
       "    'id': '0JmA87Y5Eyx0YcTBkcUoT9',\n",
       "    'images': [{'height': 640,\n",
       "      'url': 'https://i.scdn.co/image/ab67616d0000b2731afe6a15e0d459def3ccb1fa',\n",
       "      'width': 640},\n",
       "     {'height': 300,\n",
       "      'url': 'https://i.scdn.co/image/ab67616d00001e021afe6a15e0d459def3ccb1fa',\n",
       "      'width': 300},\n",
       "     {'height': 64,\n",
       "      'url': 'https://i.scdn.co/image/ab67616d000048511afe6a15e0d459def3ccb1fa',\n",
       "      'width': 64}],\n",
       "    'is_playable': True,\n",
       "    'name': 'Rockafeller Skank',\n",
       "    'release_date': '1998-06-01',\n",
       "    'release_date_precision': 'day',\n",
       "    'total_tracks': 4,\n",
       "    'type': 'album',\n",
       "    'uri': 'spotify:album:0JmA87Y5Eyx0YcTBkcUoT9'},\n",
       "   'artists': [{'external_urls': {'spotify': 'https://open.spotify.com/artist/4Y7tXHSEejGu1vQ9bwDdXW'},\n",
       "     'href': 'https://api.spotify.com/v1/artists/4Y7tXHSEejGu1vQ9bwDdXW',\n",
       "     'id': '4Y7tXHSEejGu1vQ9bwDdXW',\n",
       "     'name': 'Fatboy Slim',\n",
       "     'type': 'artist',\n",
       "     'uri': 'spotify:artist:4Y7tXHSEejGu1vQ9bwDdXW'}],\n",
       "   'disc_number': 1,\n",
       "   'duration_ms': 241466,\n",
       "   'explicit': False,\n",
       "   'external_ids': {'isrc': 'GBBMQ9800051'},\n",
       "   'external_urls': {'spotify': 'https://open.spotify.com/track/04VNbgbZyHk8oLMUZjyyb6'},\n",
       "   'href': 'https://api.spotify.com/v1/tracks/04VNbgbZyHk8oLMUZjyyb6',\n",
       "   'id': '04VNbgbZyHk8oLMUZjyyb6',\n",
       "   'is_local': False,\n",
       "   'is_playable': True,\n",
       "   'name': 'Rockafeller Skank (Short Edit)',\n",
       "   'popularity': 27,\n",
       "   'preview_url': 'https://p.scdn.co/mp3-preview/9066ddb0db284cf4184bf660e09c994613eb74c0?cid=600f9de97a3443d19aa0cc5e832269ee',\n",
       "   'track_number': 4,\n",
       "   'type': 'track',\n",
       "   'uri': 'spotify:track:04VNbgbZyHk8oLMUZjyyb6'},\n",
       "  {'album': {'album_type': 'single',\n",
       "    'artists': [{'external_urls': {'spotify': 'https://open.spotify.com/artist/4Y7tXHSEejGu1vQ9bwDdXW'},\n",
       "      'href': 'https://api.spotify.com/v1/artists/4Y7tXHSEejGu1vQ9bwDdXW',\n",
       "      'id': '4Y7tXHSEejGu1vQ9bwDdXW',\n",
       "      'name': 'Fatboy Slim',\n",
       "      'type': 'artist',\n",
       "      'uri': 'spotify:artist:4Y7tXHSEejGu1vQ9bwDdXW'},\n",
       "     {'external_urls': {'spotify': 'https://open.spotify.com/artist/240wlM8vDrf6S4zCyzGj2W'},\n",
       "      'href': 'https://api.spotify.com/v1/artists/240wlM8vDrf6S4zCyzGj2W',\n",
       "      'id': '240wlM8vDrf6S4zCyzGj2W',\n",
       "      'name': 'CamelPhat',\n",
       "      'type': 'artist',\n",
       "      'uri': 'spotify:artist:240wlM8vDrf6S4zCyzGj2W'}],\n",
       "    'external_urls': {'spotify': 'https://open.spotify.com/album/00wUo7TjMmtHf4UIAhWQBn'},\n",
       "    'href': 'https://api.spotify.com/v1/albums/00wUo7TjMmtHf4UIAhWQBn',\n",
       "    'id': '00wUo7TjMmtHf4UIAhWQBn',\n",
       "    'images': [{'height': 640,\n",
       "      'url': 'https://i.scdn.co/image/ab67616d0000b2730a91b726e8b44d37faed4e15',\n",
       "      'width': 640},\n",
       "     {'height': 300,\n",
       "      'url': 'https://i.scdn.co/image/ab67616d00001e020a91b726e8b44d37faed4e15',\n",
       "      'width': 300},\n",
       "     {'height': 64,\n",
       "      'url': 'https://i.scdn.co/image/ab67616d000048510a91b726e8b44d37faed4e15',\n",
       "      'width': 64}],\n",
       "    'is_playable': True,\n",
       "    'name': 'Right Here Right Now (CamelPhat Remix)',\n",
       "    'release_date': '2018-03-09',\n",
       "    'release_date_precision': 'day',\n",
       "    'total_tracks': 2,\n",
       "    'type': 'album',\n",
       "    'uri': 'spotify:album:00wUo7TjMmtHf4UIAhWQBn'},\n",
       "   'artists': [{'external_urls': {'spotify': 'https://open.spotify.com/artist/4Y7tXHSEejGu1vQ9bwDdXW'},\n",
       "     'href': 'https://api.spotify.com/v1/artists/4Y7tXHSEejGu1vQ9bwDdXW',\n",
       "     'id': '4Y7tXHSEejGu1vQ9bwDdXW',\n",
       "     'name': 'Fatboy Slim',\n",
       "     'type': 'artist',\n",
       "     'uri': 'spotify:artist:4Y7tXHSEejGu1vQ9bwDdXW'},\n",
       "    {'external_urls': {'spotify': 'https://open.spotify.com/artist/240wlM8vDrf6S4zCyzGj2W'},\n",
       "     'href': 'https://api.spotify.com/v1/artists/240wlM8vDrf6S4zCyzGj2W',\n",
       "     'id': '240wlM8vDrf6S4zCyzGj2W',\n",
       "     'name': 'CamelPhat',\n",
       "     'type': 'artist',\n",
       "     'uri': 'spotify:artist:240wlM8vDrf6S4zCyzGj2W'}],\n",
       "   'disc_number': 1,\n",
       "   'duration_ms': 214634,\n",
       "   'explicit': False,\n",
       "   'external_ids': {'isrc': 'GB5KW1800122'},\n",
       "   'external_urls': {'spotify': 'https://open.spotify.com/track/5cqAAt8rWLNrqhG5Otk6Jp'},\n",
       "   'href': 'https://api.spotify.com/v1/tracks/5cqAAt8rWLNrqhG5Otk6Jp',\n",
       "   'id': '5cqAAt8rWLNrqhG5Otk6Jp',\n",
       "   'is_local': False,\n",
       "   'is_playable': True,\n",
       "   'name': 'Right Here Right Now (Radio Edit) (CamelPhat Remix)',\n",
       "   'popularity': 30,\n",
       "   'preview_url': 'https://p.scdn.co/mp3-preview/cd553f3dca8f8123bcffcee49ce59f13fd2a2c71?cid=600f9de97a3443d19aa0cc5e832269ee',\n",
       "   'track_number': 1,\n",
       "   'type': 'track',\n",
       "   'uri': 'spotify:track:5cqAAt8rWLNrqhG5Otk6Jp'},\n",
       "  {'album': {'album_type': 'album',\n",
       "    'artists': [{'external_urls': {'spotify': 'https://open.spotify.com/artist/19SmlbABtI4bXz864MLqOS'},\n",
       "      'href': 'https://api.spotify.com/v1/artists/19SmlbABtI4bXz864MLqOS',\n",
       "      'id': '19SmlbABtI4bXz864MLqOS',\n",
       "      'name': 'Carl Cox',\n",
       "      'type': 'artist',\n",
       "      'uri': 'spotify:artist:19SmlbABtI4bXz864MLqOS'}],\n",
       "    'external_urls': {'spotify': 'https://open.spotify.com/album/15XrNU8AkmvwmGkoi6sLSs'},\n",
       "    'href': 'https://api.spotify.com/v1/albums/15XrNU8AkmvwmGkoi6sLSs',\n",
       "    'id': '15XrNU8AkmvwmGkoi6sLSs',\n",
       "    'images': [{'height': 640,\n",
       "      'url': 'https://i.scdn.co/image/ab67616d0000b27326ccdd9e75e2c5507ff8f55d',\n",
       "      'width': 640},\n",
       "     {'height': 300,\n",
       "      'url': 'https://i.scdn.co/image/ab67616d00001e0226ccdd9e75e2c5507ff8f55d',\n",
       "      'width': 300},\n",
       "     {'height': 64,\n",
       "      'url': 'https://i.scdn.co/image/ab67616d0000485126ccdd9e75e2c5507ff8f55d',\n",
       "      'width': 64}],\n",
       "    'is_playable': True,\n",
       "    'name': 'Electronic Generations',\n",
       "    'release_date': '2022-12-02',\n",
       "    'release_date_precision': 'day',\n",
       "    'total_tracks': 24,\n",
       "    'type': 'album',\n",
       "    'uri': 'spotify:album:15XrNU8AkmvwmGkoi6sLSs'},\n",
       "   'artists': [{'external_urls': {'spotify': 'https://open.spotify.com/artist/19SmlbABtI4bXz864MLqOS'},\n",
       "     'href': 'https://api.spotify.com/v1/artists/19SmlbABtI4bXz864MLqOS',\n",
       "     'id': '19SmlbABtI4bXz864MLqOS',\n",
       "     'name': 'Carl Cox',\n",
       "     'type': 'artist',\n",
       "     'uri': 'spotify:artist:19SmlbABtI4bXz864MLqOS'},\n",
       "    {'external_urls': {'spotify': 'https://open.spotify.com/artist/4Y7tXHSEejGu1vQ9bwDdXW'},\n",
       "     'href': 'https://api.spotify.com/v1/artists/4Y7tXHSEejGu1vQ9bwDdXW',\n",
       "     'id': '4Y7tXHSEejGu1vQ9bwDdXW',\n",
       "     'name': 'Fatboy Slim',\n",
       "     'type': 'artist',\n",
       "     'uri': 'spotify:artist:4Y7tXHSEejGu1vQ9bwDdXW'},\n",
       "    {'external_urls': {'spotify': 'https://open.spotify.com/artist/2MXl3PpdGGUqQNgfboIImS'},\n",
       "     'href': 'https://api.spotify.com/v1/artists/2MXl3PpdGGUqQNgfboIImS',\n",
       "     'id': '2MXl3PpdGGUqQNgfboIImS',\n",
       "     'name': 'Dan Diamond',\n",
       "     'type': 'artist',\n",
       "     'uri': 'spotify:artist:2MXl3PpdGGUqQNgfboIImS'},\n",
       "    {'external_urls': {'spotify': 'https://open.spotify.com/artist/0HxX6imltnNXJyQhu4nsiO'},\n",
       "     'href': 'https://api.spotify.com/v1/artists/0HxX6imltnNXJyQhu4nsiO',\n",
       "     'id': '0HxX6imltnNXJyQhu4nsiO',\n",
       "     'name': 'LF SYSTEM',\n",
       "     'type': 'artist',\n",
       "     'uri': 'spotify:artist:0HxX6imltnNXJyQhu4nsiO'}],\n",
       "   'disc_number': 2,\n",
       "   'duration_ms': 183423,\n",
       "   'explicit': False,\n",
       "   'external_ids': {'isrc': 'GB5KW2201836'},\n",
       "   'external_urls': {'spotify': 'https://open.spotify.com/track/6z5LHZZWFKN7M5kGJ6RbHq'},\n",
       "   'href': 'https://api.spotify.com/v1/tracks/6z5LHZZWFKN7M5kGJ6RbHq',\n",
       "   'id': '6z5LHZZWFKN7M5kGJ6RbHq',\n",
       "   'is_local': False,\n",
       "   'is_playable': True,\n",
       "   'name': 'Speed Trials On Acid (feat. Dan Diamond) (LF SYSTEM Remix)',\n",
       "   'popularity': 24,\n",
       "   'preview_url': 'https://p.scdn.co/mp3-preview/e792fba4ec2b21b836dec464598c45285572eb77?cid=600f9de97a3443d19aa0cc5e832269ee',\n",
       "   'track_number': 3,\n",
       "   'type': 'track',\n",
       "   'uri': 'spotify:track:6z5LHZZWFKN7M5kGJ6RbHq'},\n",
       "  {'album': {'album_type': 'album',\n",
       "    'artists': [{'external_urls': {'spotify': 'https://open.spotify.com/artist/4Y7tXHSEejGu1vQ9bwDdXW'},\n",
       "      'href': 'https://api.spotify.com/v1/artists/4Y7tXHSEejGu1vQ9bwDdXW',\n",
       "      'id': '4Y7tXHSEejGu1vQ9bwDdXW',\n",
       "      'name': 'Fatboy Slim',\n",
       "      'type': 'artist',\n",
       "      'uri': 'spotify:artist:4Y7tXHSEejGu1vQ9bwDdXW'}],\n",
       "    'external_urls': {'spotify': 'https://open.spotify.com/album/5x8jvexMz28xA19rnvj7TV'},\n",
       "    'href': 'https://api.spotify.com/v1/albums/5x8jvexMz28xA19rnvj7TV',\n",
       "    'id': '5x8jvexMz28xA19rnvj7TV',\n",
       "    'images': [{'height': 640,\n",
       "      'url': 'https://i.scdn.co/image/ab67616d0000b27312da018a24e153ee93c87259',\n",
       "      'width': 640},\n",
       "     {'height': 300,\n",
       "      'url': 'https://i.scdn.co/image/ab67616d00001e0212da018a24e153ee93c87259',\n",
       "      'width': 300},\n",
       "     {'height': 64,\n",
       "      'url': 'https://i.scdn.co/image/ab67616d0000485112da018a24e153ee93c87259',\n",
       "      'width': 64}],\n",
       "    'is_playable': True,\n",
       "    'name': \"You've Come a Long Way Baby (10th Anniversary Edition)\",\n",
       "    'release_date': '1998-10-19',\n",
       "    'release_date_precision': 'day',\n",
       "    'total_tracks': 22,\n",
       "    'type': 'album',\n",
       "    'uri': 'spotify:album:5x8jvexMz28xA19rnvj7TV'},\n",
       "   'artists': [{'external_urls': {'spotify': 'https://open.spotify.com/artist/4Y7tXHSEejGu1vQ9bwDdXW'},\n",
       "     'href': 'https://api.spotify.com/v1/artists/4Y7tXHSEejGu1vQ9bwDdXW',\n",
       "     'id': '4Y7tXHSEejGu1vQ9bwDdXW',\n",
       "     'name': 'Fatboy Slim',\n",
       "     'type': 'artist',\n",
       "     'uri': 'spotify:artist:4Y7tXHSEejGu1vQ9bwDdXW'}],\n",
       "   'disc_number': 1,\n",
       "   'duration_ms': 320053,\n",
       "   'explicit': True,\n",
       "   'external_ids': {'isrc': 'GBBMQ9800078'},\n",
       "   'external_urls': {'spotify': 'https://open.spotify.com/track/76rlHY5gLtEnlu8odEM05a'},\n",
       "   'href': 'https://api.spotify.com/v1/tracks/76rlHY5gLtEnlu8odEM05a',\n",
       "   'id': '76rlHY5gLtEnlu8odEM05a',\n",
       "   'is_local': False,\n",
       "   'is_playable': True,\n",
       "   'name': 'Gangster Trippin',\n",
       "   'popularity': 28,\n",
       "   'preview_url': 'https://p.scdn.co/mp3-preview/dde87816ae33b6270752ff8f7aa6bc4599298dd3?cid=600f9de97a3443d19aa0cc5e832269ee',\n",
       "   'track_number': 4,\n",
       "   'type': 'track',\n",
       "   'uri': 'spotify:track:76rlHY5gLtEnlu8odEM05a'}]}"
      ]
     },
     "execution_count": 68,
     "metadata": {},
     "output_type": "execute_result"
    }
   ],
   "source": [
    "top_track_json"
   ]
  },
  {
   "cell_type": "code",
   "execution_count": 69,
   "id": "ba3930ac",
   "metadata": {},
   "outputs": [],
   "source": [
    "df_tracks = pd.DataFrame(top_track_json['tracks'])[['id','href','name','uri']]"
   ]
  },
  {
   "cell_type": "code",
   "execution_count": 70,
   "id": "315dde71",
   "metadata": {},
   "outputs": [],
   "source": [
    "\"\"\"\"def get_top_tracks(artist_id):\n",
    "    resource = '/artists'\n",
    "    parameters = f'/{artist_id}/top-tracks?market=ES'\n",
    "    \n",
    "    url = base_url + resource + parameters\n",
    "    \n",
    "    response = requests.get(url, headers = header_info).json()\n",
    "    df_tracks = pd.DataFrame(response['tracks'])[['id','href','name','uri']]\n",
    "    df_tracks['related_id'] = id_artist\n",
    "    \n",
    "    return df_tracks\"\"\"\n",
    "def get_top_tracks(artist_id):\n",
    "    resource = '/artists'\n",
    "    method = f'/{artist_id}/top-tracks?market=ES'\n",
    "    \n",
    "    url = base_url + resource + method\n",
    "    \n",
    "    response = requests.get(url, headers = header_info).json()\n",
    "    df_tracks = pd.DataFrame(top_track_json['tracks'])[['id' ,'href', 'name', 'uri']]\n",
    "    df_tracks['related_id'] = artist_id\n",
    "    \n",
    "    return df_tracks"
   ]
  },
  {
   "cell_type": "code",
   "execution_count": 71,
   "id": "c45727fe",
   "metadata": {},
   "outputs": [
    {
     "data": {
      "text/html": [
       "<div>\n",
       "<style scoped>\n",
       "    .dataframe tbody tr th:only-of-type {\n",
       "        vertical-align: middle;\n",
       "    }\n",
       "\n",
       "    .dataframe tbody tr th {\n",
       "        vertical-align: top;\n",
       "    }\n",
       "\n",
       "    .dataframe thead th {\n",
       "        text-align: right;\n",
       "    }\n",
       "</style>\n",
       "<table border=\"1\" class=\"dataframe\">\n",
       "  <thead>\n",
       "    <tr style=\"text-align: right;\">\n",
       "      <th></th>\n",
       "      <th>id</th>\n",
       "      <th>href</th>\n",
       "      <th>name</th>\n",
       "      <th>uri</th>\n",
       "      <th>related_id</th>\n",
       "    </tr>\n",
       "  </thead>\n",
       "  <tbody>\n",
       "    <tr>\n",
       "      <th>0</th>\n",
       "      <td>1j8GQQGyC26O1TeW4LLvjk</td>\n",
       "      <td>https://api.spotify.com/v1/tracks/1j8GQQGyC26O...</td>\n",
       "      <td>Praise You (Radio Edit)</td>\n",
       "      <td>spotify:track:1j8GQQGyC26O1TeW4LLvjk</td>\n",
       "      <td>0kyQwKHCZnKE7kTXkxXjrB</td>\n",
       "    </tr>\n",
       "    <tr>\n",
       "      <th>1</th>\n",
       "      <td>5Sh9v7RwibuV34tdjscwx5</td>\n",
       "      <td>https://api.spotify.com/v1/tracks/5Sh9v7RwibuV...</td>\n",
       "      <td>Right Here Right Now</td>\n",
       "      <td>spotify:track:5Sh9v7RwibuV34tdjscwx5</td>\n",
       "      <td>0kyQwKHCZnKE7kTXkxXjrB</td>\n",
       "    </tr>\n",
       "    <tr>\n",
       "      <th>2</th>\n",
       "      <td>5AgCO3dc2kuSicCsw09YCA</td>\n",
       "      <td>https://api.spotify.com/v1/tracks/5AgCO3dc2kuS...</td>\n",
       "      <td>Rockafeller Skank</td>\n",
       "      <td>spotify:track:5AgCO3dc2kuSicCsw09YCA</td>\n",
       "      <td>0kyQwKHCZnKE7kTXkxXjrB</td>\n",
       "    </tr>\n",
       "    <tr>\n",
       "      <th>3</th>\n",
       "      <td>1FS21kclHQ2vVi3U1ZxETc</td>\n",
       "      <td>https://api.spotify.com/v1/tracks/1FS21kclHQ2v...</td>\n",
       "      <td>Praise You</td>\n",
       "      <td>spotify:track:1FS21kclHQ2vVi3U1ZxETc</td>\n",
       "      <td>0kyQwKHCZnKE7kTXkxXjrB</td>\n",
       "    </tr>\n",
       "    <tr>\n",
       "      <th>4</th>\n",
       "      <td>6RzRRbZxWWFm7ih6djhUzx</td>\n",
       "      <td>https://api.spotify.com/v1/tracks/6RzRRbZxWWFm...</td>\n",
       "      <td>Praise You (Purple Disco Machine Remix) (Radio...</td>\n",
       "      <td>spotify:track:6RzRRbZxWWFm7ih6djhUzx</td>\n",
       "      <td>0kyQwKHCZnKE7kTXkxXjrB</td>\n",
       "    </tr>\n",
       "    <tr>\n",
       "      <th>5</th>\n",
       "      <td>57uygrPhl1rrY66TwfVF41</td>\n",
       "      <td>https://api.spotify.com/v1/tracks/57uygrPhl1rr...</td>\n",
       "      <td>Weapon of Choice</td>\n",
       "      <td>spotify:track:57uygrPhl1rrY66TwfVF41</td>\n",
       "      <td>0kyQwKHCZnKE7kTXkxXjrB</td>\n",
       "    </tr>\n",
       "    <tr>\n",
       "      <th>6</th>\n",
       "      <td>04VNbgbZyHk8oLMUZjyyb6</td>\n",
       "      <td>https://api.spotify.com/v1/tracks/04VNbgbZyHk8...</td>\n",
       "      <td>Rockafeller Skank (Short Edit)</td>\n",
       "      <td>spotify:track:04VNbgbZyHk8oLMUZjyyb6</td>\n",
       "      <td>0kyQwKHCZnKE7kTXkxXjrB</td>\n",
       "    </tr>\n",
       "    <tr>\n",
       "      <th>7</th>\n",
       "      <td>5cqAAt8rWLNrqhG5Otk6Jp</td>\n",
       "      <td>https://api.spotify.com/v1/tracks/5cqAAt8rWLNr...</td>\n",
       "      <td>Right Here Right Now (Radio Edit) (CamelPhat R...</td>\n",
       "      <td>spotify:track:5cqAAt8rWLNrqhG5Otk6Jp</td>\n",
       "      <td>0kyQwKHCZnKE7kTXkxXjrB</td>\n",
       "    </tr>\n",
       "    <tr>\n",
       "      <th>8</th>\n",
       "      <td>6z5LHZZWFKN7M5kGJ6RbHq</td>\n",
       "      <td>https://api.spotify.com/v1/tracks/6z5LHZZWFKN7...</td>\n",
       "      <td>Speed Trials On Acid (feat. Dan Diamond) (LF S...</td>\n",
       "      <td>spotify:track:6z5LHZZWFKN7M5kGJ6RbHq</td>\n",
       "      <td>0kyQwKHCZnKE7kTXkxXjrB</td>\n",
       "    </tr>\n",
       "    <tr>\n",
       "      <th>9</th>\n",
       "      <td>76rlHY5gLtEnlu8odEM05a</td>\n",
       "      <td>https://api.spotify.com/v1/tracks/76rlHY5gLtEn...</td>\n",
       "      <td>Gangster Trippin</td>\n",
       "      <td>spotify:track:76rlHY5gLtEnlu8odEM05a</td>\n",
       "      <td>0kyQwKHCZnKE7kTXkxXjrB</td>\n",
       "    </tr>\n",
       "  </tbody>\n",
       "</table>\n",
       "</div>"
      ],
      "text/plain": [
       "                       id                                               href  \\\n",
       "0  1j8GQQGyC26O1TeW4LLvjk  https://api.spotify.com/v1/tracks/1j8GQQGyC26O...   \n",
       "1  5Sh9v7RwibuV34tdjscwx5  https://api.spotify.com/v1/tracks/5Sh9v7RwibuV...   \n",
       "2  5AgCO3dc2kuSicCsw09YCA  https://api.spotify.com/v1/tracks/5AgCO3dc2kuS...   \n",
       "3  1FS21kclHQ2vVi3U1ZxETc  https://api.spotify.com/v1/tracks/1FS21kclHQ2v...   \n",
       "4  6RzRRbZxWWFm7ih6djhUzx  https://api.spotify.com/v1/tracks/6RzRRbZxWWFm...   \n",
       "5  57uygrPhl1rrY66TwfVF41  https://api.spotify.com/v1/tracks/57uygrPhl1rr...   \n",
       "6  04VNbgbZyHk8oLMUZjyyb6  https://api.spotify.com/v1/tracks/04VNbgbZyHk8...   \n",
       "7  5cqAAt8rWLNrqhG5Otk6Jp  https://api.spotify.com/v1/tracks/5cqAAt8rWLNr...   \n",
       "8  6z5LHZZWFKN7M5kGJ6RbHq  https://api.spotify.com/v1/tracks/6z5LHZZWFKN7...   \n",
       "9  76rlHY5gLtEnlu8odEM05a  https://api.spotify.com/v1/tracks/76rlHY5gLtEn...   \n",
       "\n",
       "                                                name  \\\n",
       "0                            Praise You (Radio Edit)   \n",
       "1                               Right Here Right Now   \n",
       "2                                  Rockafeller Skank   \n",
       "3                                         Praise You   \n",
       "4  Praise You (Purple Disco Machine Remix) (Radio...   \n",
       "5                                   Weapon of Choice   \n",
       "6                     Rockafeller Skank (Short Edit)   \n",
       "7  Right Here Right Now (Radio Edit) (CamelPhat R...   \n",
       "8  Speed Trials On Acid (feat. Dan Diamond) (LF S...   \n",
       "9                                   Gangster Trippin   \n",
       "\n",
       "                                    uri              related_id  \n",
       "0  spotify:track:1j8GQQGyC26O1TeW4LLvjk  0kyQwKHCZnKE7kTXkxXjrB  \n",
       "1  spotify:track:5Sh9v7RwibuV34tdjscwx5  0kyQwKHCZnKE7kTXkxXjrB  \n",
       "2  spotify:track:5AgCO3dc2kuSicCsw09YCA  0kyQwKHCZnKE7kTXkxXjrB  \n",
       "3  spotify:track:1FS21kclHQ2vVi3U1ZxETc  0kyQwKHCZnKE7kTXkxXjrB  \n",
       "4  spotify:track:6RzRRbZxWWFm7ih6djhUzx  0kyQwKHCZnKE7kTXkxXjrB  \n",
       "5  spotify:track:57uygrPhl1rrY66TwfVF41  0kyQwKHCZnKE7kTXkxXjrB  \n",
       "6  spotify:track:04VNbgbZyHk8oLMUZjyyb6  0kyQwKHCZnKE7kTXkxXjrB  \n",
       "7  spotify:track:5cqAAt8rWLNrqhG5Otk6Jp  0kyQwKHCZnKE7kTXkxXjrB  \n",
       "8  spotify:track:6z5LHZZWFKN7M5kGJ6RbHq  0kyQwKHCZnKE7kTXkxXjrB  \n",
       "9  spotify:track:76rlHY5gLtEnlu8odEM05a  0kyQwKHCZnKE7kTXkxXjrB  "
      ]
     },
     "execution_count": 71,
     "metadata": {},
     "output_type": "execute_result"
    }
   ],
   "source": [
    "get_top_tracks('0kyQwKHCZnKE7kTXkxXjrB')"
   ]
  },
  {
   "cell_type": "code",
   "execution_count": 72,
   "id": "e29dbe4e",
   "metadata": {},
   "outputs": [],
   "source": [
    "id_selected = '0kyQwKHCZnKE7kTXkxXjrB'"
   ]
  },
  {
   "cell_type": "code",
   "execution_count": 73,
   "id": "e4a64d9c",
   "metadata": {},
   "outputs": [
    {
     "name": "stdout",
     "output_type": "stream",
     "text": [
      "https://api.spotify.com/v1/artists/0kyQwKHCZnKE7kTXkxXjrB\n"
     ]
    }
   ],
   "source": [
    "#build the url for the api call:\n",
    "resource = 'artists'\n",
    "parameters = f'/{id_selected}'\n",
    "\n",
    "url = base_url + resource + parameters\n",
    "print(url)"
   ]
  },
  {
   "cell_type": "code",
   "execution_count": 74,
   "id": "9559f378",
   "metadata": {},
   "outputs": [],
   "source": [
    "#API Call\n",
    "response = requests.get(url, headers = header_info).json()\n"
   ]
  },
  {
   "cell_type": "code",
   "execution_count": 75,
   "id": "a8f5b03a",
   "metadata": {},
   "outputs": [],
   "source": [
    "#response"
   ]
  },
  {
   "cell_type": "code",
   "execution_count": 76,
   "id": "fa66e780",
   "metadata": {},
   "outputs": [],
   "source": [
    "#artist_dict\n",
    "dict_artist = dict((key,[response[key]]) for key in ['in','name','genres','popularity','followers']if key in response)"
   ]
  },
  {
   "cell_type": "code",
   "execution_count": 77,
   "id": "84fb51e1",
   "metadata": {},
   "outputs": [],
   "source": [
    "#dict_artist"
   ]
  },
  {
   "cell_type": "code",
   "execution_count": 78,
   "id": "8884a45b",
   "metadata": {},
   "outputs": [],
   "source": [
    "df_artist = pd.DataFrame(dict_artist)"
   ]
  },
  {
   "cell_type": "code",
   "execution_count": 79,
   "id": "066fbdab",
   "metadata": {},
   "outputs": [
    {
     "data": {
      "text/html": [
       "<div>\n",
       "<style scoped>\n",
       "    .dataframe tbody tr th:only-of-type {\n",
       "        vertical-align: middle;\n",
       "    }\n",
       "\n",
       "    .dataframe tbody tr th {\n",
       "        vertical-align: top;\n",
       "    }\n",
       "\n",
       "    .dataframe thead th {\n",
       "        text-align: right;\n",
       "    }\n",
       "</style>\n",
       "<table border=\"1\" class=\"dataframe\">\n",
       "  <thead>\n",
       "    <tr style=\"text-align: right;\">\n",
       "      <th></th>\n",
       "      <th>name</th>\n",
       "      <th>genres</th>\n",
       "      <th>popularity</th>\n",
       "      <th>followers</th>\n",
       "    </tr>\n",
       "  </thead>\n",
       "  <tbody>\n",
       "    <tr>\n",
       "      <th>0</th>\n",
       "      <td>Desorden Público</td>\n",
       "      <td>[caracas indie, latin alternative, latin ska, ...</td>\n",
       "      <td>37</td>\n",
       "      <td>{'href': None, 'total': 136451}</td>\n",
       "    </tr>\n",
       "  </tbody>\n",
       "</table>\n",
       "</div>"
      ],
      "text/plain": [
       "               name                                             genres  \\\n",
       "0  Desorden Público  [caracas indie, latin alternative, latin ska, ...   \n",
       "\n",
       "   popularity                        followers  \n",
       "0          37  {'href': None, 'total': 136451}  "
      ]
     },
     "execution_count": 79,
     "metadata": {},
     "output_type": "execute_result"
    }
   ],
   "source": [
    "df_artist"
   ]
  },
  {
   "cell_type": "code",
   "execution_count": 80,
   "id": "fd085cb6",
   "metadata": {},
   "outputs": [
    {
     "data": {
      "text/html": [
       "<div>\n",
       "<style scoped>\n",
       "    .dataframe tbody tr th:only-of-type {\n",
       "        vertical-align: middle;\n",
       "    }\n",
       "\n",
       "    .dataframe tbody tr th {\n",
       "        vertical-align: top;\n",
       "    }\n",
       "\n",
       "    .dataframe thead th {\n",
       "        text-align: right;\n",
       "    }\n",
       "</style>\n",
       "<table border=\"1\" class=\"dataframe\">\n",
       "  <thead>\n",
       "    <tr style=\"text-align: right;\">\n",
       "      <th></th>\n",
       "      <th>artist_name</th>\n",
       "      <th>artist_genres</th>\n",
       "      <th>artist_popularity</th>\n",
       "      <th>artist_followers</th>\n",
       "    </tr>\n",
       "  </thead>\n",
       "  <tbody>\n",
       "    <tr>\n",
       "      <th>0</th>\n",
       "      <td>Desorden Público</td>\n",
       "      <td>[caracas indie, latin alternative, latin ska, ...</td>\n",
       "      <td>37</td>\n",
       "      <td>{'href': None, 'total': 136451}</td>\n",
       "    </tr>\n",
       "  </tbody>\n",
       "</table>\n",
       "</div>"
      ],
      "text/plain": [
       "        artist_name                                      artist_genres  \\\n",
       "0  Desorden Público  [caracas indie, latin alternative, latin ska, ...   \n",
       "\n",
       "   artist_popularity                 artist_followers  \n",
       "0                 37  {'href': None, 'total': 136451}  "
      ]
     },
     "execution_count": 80,
     "metadata": {},
     "output_type": "execute_result"
    }
   ],
   "source": [
    "#rename columns\n",
    "df_artist = df_artist.rename(columns = {'id': 'artist_id',\n",
    "                                       'name': 'artist_name',\n",
    "                                       'genres' : 'artist_genres',\n",
    "                                       'popularity' : 'artist_popularity',\n",
    "                                       'followers': 'artist_followers'})\n",
    "df_artist"
   ]
  },
  {
   "cell_type": "code",
   "execution_count": null,
   "id": "c0865ae9",
   "metadata": {},
   "outputs": [],
   "source": []
  },
  {
   "cell_type": "code",
   "execution_count": 28,
   "id": "359cd2cd",
   "metadata": {},
   "outputs": [],
   "source": [
    "#buildtne url for the API call:\n",
    "parameters = f'/{id_selected}/related-artists'"
   ]
  },
  {
   "cell_type": "code",
   "execution_count": 29,
   "id": "4f2dd888",
   "metadata": {},
   "outputs": [
    {
     "name": "stdout",
     "output_type": "stream",
     "text": [
      "https://api.spotify.com/v1/artists/0kyQwKHCZnKE7kTXkxXjrB/related-artists\n"
     ]
    }
   ],
   "source": [
    "url = base_url + resource + parameters\n",
    "print(url)"
   ]
  },
  {
   "cell_type": "code",
   "execution_count": 30,
   "id": "676374b5",
   "metadata": {},
   "outputs": [],
   "source": [
    "#API call\n",
    "response = requests.get(url, headers = header_info).json()"
   ]
  },
  {
   "cell_type": "code",
   "execution_count": 31,
   "id": "c4694ab4",
   "metadata": {},
   "outputs": [],
   "source": [
    "#build a related artists df\n",
    "df_related_artists = pd.DataFrame(response['artists'])[['id','name','genres','popularity','followers']]"
   ]
  },
  {
   "cell_type": "code",
   "execution_count": 32,
   "id": "cfaaf367",
   "metadata": {},
   "outputs": [],
   "source": [
    "#rename columns\n",
    "df_related_artists = df_related_artists.rename(columns = {'id' : 'related_id',\n",
    "                                                         'name' : 'related_name',\n",
    "                                                         'genres' : 'related_genres',\n",
    "                                                         'popularity' : 'related_popularity',\n",
    "                                                         'followers' : 'related_followers'})"
   ]
  },
  {
   "cell_type": "code",
   "execution_count": 33,
   "id": "6417f5ea",
   "metadata": {},
   "outputs": [],
   "source": [
    "#add a column with selected id artist\n",
    "df_related_artists['artist_id'] = id_selected"
   ]
  },
  {
   "cell_type": "code",
   "execution_count": 34,
   "id": "7ae6c8be",
   "metadata": {},
   "outputs": [
    {
     "data": {
      "text/plain": [
       "0     0kyQwKHCZnKE7kTXkxXjrB\n",
       "1     0kyQwKHCZnKE7kTXkxXjrB\n",
       "2     0kyQwKHCZnKE7kTXkxXjrB\n",
       "3     0kyQwKHCZnKE7kTXkxXjrB\n",
       "4     0kyQwKHCZnKE7kTXkxXjrB\n",
       "5     0kyQwKHCZnKE7kTXkxXjrB\n",
       "6     0kyQwKHCZnKE7kTXkxXjrB\n",
       "7     0kyQwKHCZnKE7kTXkxXjrB\n",
       "8     0kyQwKHCZnKE7kTXkxXjrB\n",
       "9     0kyQwKHCZnKE7kTXkxXjrB\n",
       "10    0kyQwKHCZnKE7kTXkxXjrB\n",
       "11    0kyQwKHCZnKE7kTXkxXjrB\n",
       "12    0kyQwKHCZnKE7kTXkxXjrB\n",
       "13    0kyQwKHCZnKE7kTXkxXjrB\n",
       "14    0kyQwKHCZnKE7kTXkxXjrB\n",
       "15    0kyQwKHCZnKE7kTXkxXjrB\n",
       "16    0kyQwKHCZnKE7kTXkxXjrB\n",
       "17    0kyQwKHCZnKE7kTXkxXjrB\n",
       "18    0kyQwKHCZnKE7kTXkxXjrB\n",
       "19    0kyQwKHCZnKE7kTXkxXjrB\n",
       "Name: artist_id, dtype: object"
      ]
     },
     "execution_count": 34,
     "metadata": {},
     "output_type": "execute_result"
    }
   ],
   "source": [
    "df_related_artists['artist_id']\n"
   ]
  },
  {
   "cell_type": "code",
   "execution_count": 35,
   "id": "b6f11282",
   "metadata": {},
   "outputs": [
    {
     "ename": "KeyError",
     "evalue": "'artist_id'",
     "output_type": "error",
     "traceback": [
      "\u001b[1;31m---------------------------------------------------------------------------\u001b[0m",
      "\u001b[1;31mKeyError\u001b[0m                                  Traceback (most recent call last)",
      "\u001b[1;32m~\\AppData\\Local\\Temp\\ipykernel_38544\\1591198931.py\u001b[0m in \u001b[0;36m?\u001b[1;34m()\u001b[0m\n\u001b[0;32m      1\u001b[0m \u001b[1;31m#join artist and related artist to merge info\u001b[0m\u001b[1;33m\u001b[0m\u001b[1;33m\u001b[0m\u001b[0m\n\u001b[1;32m----> 2\u001b[1;33m \u001b[0mdf_related_artists\u001b[0m \u001b[1;33m=\u001b[0m \u001b[0mpd\u001b[0m\u001b[1;33m.\u001b[0m\u001b[0mmerge\u001b[0m\u001b[1;33m(\u001b[0m\u001b[0mdf_related_artists\u001b[0m\u001b[1;33m,\u001b[0m \u001b[0mdf_artist\u001b[0m\u001b[1;33m,\u001b[0m \u001b[0mon\u001b[0m\u001b[1;33m=\u001b[0m\u001b[1;34m'artist_id'\u001b[0m\u001b[1;33m)\u001b[0m\u001b[1;33m\u001b[0m\u001b[1;33m\u001b[0m\u001b[0m\n\u001b[0m\u001b[0;32m      3\u001b[0m \u001b[0mdf_related_artists\u001b[0m\u001b[1;33m\u001b[0m\u001b[1;33m\u001b[0m\u001b[0m\n",
      "\u001b[1;32m~\\miniconda3\\envs\\m1_env\\lib\\site-packages\\pandas\\core\\reshape\\merge.py\u001b[0m in \u001b[0;36m?\u001b[1;34m(left, right, how, on, left_on, right_on, left_index, right_index, sort, suffixes, copy, indicator, validate)\u001b[0m\n\u001b[0;32m    144\u001b[0m     \u001b[0mcopy\u001b[0m\u001b[1;33m:\u001b[0m \u001b[0mbool\u001b[0m \u001b[1;33m|\u001b[0m \u001b[1;32mNone\u001b[0m \u001b[1;33m=\u001b[0m \u001b[1;32mNone\u001b[0m\u001b[1;33m,\u001b[0m\u001b[1;33m\u001b[0m\u001b[1;33m\u001b[0m\u001b[0m\n\u001b[0;32m    145\u001b[0m     \u001b[0mindicator\u001b[0m\u001b[1;33m:\u001b[0m \u001b[0mstr\u001b[0m \u001b[1;33m|\u001b[0m \u001b[0mbool\u001b[0m \u001b[1;33m=\u001b[0m \u001b[1;32mFalse\u001b[0m\u001b[1;33m,\u001b[0m\u001b[1;33m\u001b[0m\u001b[1;33m\u001b[0m\u001b[0m\n\u001b[0;32m    146\u001b[0m     \u001b[0mvalidate\u001b[0m\u001b[1;33m:\u001b[0m \u001b[0mstr\u001b[0m \u001b[1;33m|\u001b[0m \u001b[1;32mNone\u001b[0m \u001b[1;33m=\u001b[0m \u001b[1;32mNone\u001b[0m\u001b[1;33m,\u001b[0m\u001b[1;33m\u001b[0m\u001b[1;33m\u001b[0m\u001b[0m\n\u001b[0;32m    147\u001b[0m ) -> DataFrame:\n\u001b[1;32m--> 148\u001b[1;33m     op = _MergeOperation(\n\u001b[0m\u001b[0;32m    149\u001b[0m         \u001b[0mleft\u001b[0m\u001b[1;33m,\u001b[0m\u001b[1;33m\u001b[0m\u001b[1;33m\u001b[0m\u001b[0m\n\u001b[0;32m    150\u001b[0m         \u001b[0mright\u001b[0m\u001b[1;33m,\u001b[0m\u001b[1;33m\u001b[0m\u001b[1;33m\u001b[0m\u001b[0m\n\u001b[0;32m    151\u001b[0m         \u001b[0mhow\u001b[0m\u001b[1;33m=\u001b[0m\u001b[0mhow\u001b[0m\u001b[1;33m,\u001b[0m\u001b[1;33m\u001b[0m\u001b[1;33m\u001b[0m\u001b[0m\n",
      "\u001b[1;32m~\\miniconda3\\envs\\m1_env\\lib\\site-packages\\pandas\\core\\reshape\\merge.py\u001b[0m in \u001b[0;36m?\u001b[1;34m(self, left, right, how, on, left_on, right_on, axis, left_index, right_index, sort, suffixes, indicator, validate)\u001b[0m\n\u001b[0;32m    733\u001b[0m         (\n\u001b[0;32m    734\u001b[0m             \u001b[0mself\u001b[0m\u001b[1;33m.\u001b[0m\u001b[0mleft_join_keys\u001b[0m\u001b[1;33m,\u001b[0m\u001b[1;33m\u001b[0m\u001b[1;33m\u001b[0m\u001b[0m\n\u001b[0;32m    735\u001b[0m             \u001b[0mself\u001b[0m\u001b[1;33m.\u001b[0m\u001b[0mright_join_keys\u001b[0m\u001b[1;33m,\u001b[0m\u001b[1;33m\u001b[0m\u001b[1;33m\u001b[0m\u001b[0m\n\u001b[0;32m    736\u001b[0m             \u001b[0mself\u001b[0m\u001b[1;33m.\u001b[0m\u001b[0mjoin_names\u001b[0m\u001b[1;33m,\u001b[0m\u001b[1;33m\u001b[0m\u001b[1;33m\u001b[0m\u001b[0m\n\u001b[1;32m--> 737\u001b[1;33m         ) = self._get_merge_keys()\n\u001b[0m\u001b[0;32m    738\u001b[0m \u001b[1;33m\u001b[0m\u001b[0m\n\u001b[0;32m    739\u001b[0m         \u001b[1;31m# validate the merge keys dtypes. We may need to coerce\u001b[0m\u001b[1;33m\u001b[0m\u001b[1;33m\u001b[0m\u001b[0m\n\u001b[0;32m    740\u001b[0m         \u001b[1;31m# to avoid incompatible dtypes\u001b[0m\u001b[1;33m\u001b[0m\u001b[1;33m\u001b[0m\u001b[0m\n",
      "\u001b[1;32m~\\miniconda3\\envs\\m1_env\\lib\\site-packages\\pandas\\core\\reshape\\merge.py\u001b[0m in \u001b[0;36m?\u001b[1;34m(self)\u001b[0m\n\u001b[0;32m   1199\u001b[0m                         \u001b[1;31m# Then we're either Hashable or a wrong-length arraylike,\u001b[0m\u001b[1;33m\u001b[0m\u001b[1;33m\u001b[0m\u001b[0m\n\u001b[0;32m   1200\u001b[0m                         \u001b[1;31m#  the latter of which will raise\u001b[0m\u001b[1;33m\u001b[0m\u001b[1;33m\u001b[0m\u001b[0m\n\u001b[0;32m   1201\u001b[0m                         \u001b[0mrk\u001b[0m \u001b[1;33m=\u001b[0m \u001b[0mcast\u001b[0m\u001b[1;33m(\u001b[0m\u001b[0mHashable\u001b[0m\u001b[1;33m,\u001b[0m \u001b[0mrk\u001b[0m\u001b[1;33m)\u001b[0m\u001b[1;33m\u001b[0m\u001b[1;33m\u001b[0m\u001b[0m\n\u001b[0;32m   1202\u001b[0m                         \u001b[1;32mif\u001b[0m \u001b[0mrk\u001b[0m \u001b[1;32mis\u001b[0m \u001b[1;32mnot\u001b[0m \u001b[1;32mNone\u001b[0m\u001b[1;33m:\u001b[0m\u001b[1;33m\u001b[0m\u001b[1;33m\u001b[0m\u001b[0m\n\u001b[1;32m-> 1203\u001b[1;33m                             \u001b[0mright_keys\u001b[0m\u001b[1;33m.\u001b[0m\u001b[0mappend\u001b[0m\u001b[1;33m(\u001b[0m\u001b[0mright\u001b[0m\u001b[1;33m.\u001b[0m\u001b[0m_get_label_or_level_values\u001b[0m\u001b[1;33m(\u001b[0m\u001b[0mrk\u001b[0m\u001b[1;33m)\u001b[0m\u001b[1;33m)\u001b[0m\u001b[1;33m\u001b[0m\u001b[1;33m\u001b[0m\u001b[0m\n\u001b[0m\u001b[0;32m   1204\u001b[0m                         \u001b[1;32melse\u001b[0m\u001b[1;33m:\u001b[0m\u001b[1;33m\u001b[0m\u001b[1;33m\u001b[0m\u001b[0m\n\u001b[0;32m   1205\u001b[0m                             \u001b[1;31m# work-around for merge_asof(right_index=True)\u001b[0m\u001b[1;33m\u001b[0m\u001b[1;33m\u001b[0m\u001b[0m\n\u001b[0;32m   1206\u001b[0m                             \u001b[0mright_keys\u001b[0m\u001b[1;33m.\u001b[0m\u001b[0mappend\u001b[0m\u001b[1;33m(\u001b[0m\u001b[0mright\u001b[0m\u001b[1;33m.\u001b[0m\u001b[0mindex\u001b[0m\u001b[1;33m)\u001b[0m\u001b[1;33m\u001b[0m\u001b[1;33m\u001b[0m\u001b[0m\n",
      "\u001b[1;32m~\\miniconda3\\envs\\m1_env\\lib\\site-packages\\pandas\\core\\generic.py\u001b[0m in \u001b[0;36m?\u001b[1;34m(self, key, axis)\u001b[0m\n\u001b[0;32m   1774\u001b[0m             \u001b[0mvalues\u001b[0m \u001b[1;33m=\u001b[0m \u001b[0mself\u001b[0m\u001b[1;33m.\u001b[0m\u001b[0mxs\u001b[0m\u001b[1;33m(\u001b[0m\u001b[0mkey\u001b[0m\u001b[1;33m,\u001b[0m \u001b[0maxis\u001b[0m\u001b[1;33m=\u001b[0m\u001b[0mother_axes\u001b[0m\u001b[1;33m[\u001b[0m\u001b[1;36m0\u001b[0m\u001b[1;33m]\u001b[0m\u001b[1;33m)\u001b[0m\u001b[1;33m.\u001b[0m\u001b[0m_values\u001b[0m\u001b[1;33m\u001b[0m\u001b[1;33m\u001b[0m\u001b[0m\n\u001b[0;32m   1775\u001b[0m         \u001b[1;32melif\u001b[0m \u001b[0mself\u001b[0m\u001b[1;33m.\u001b[0m\u001b[0m_is_level_reference\u001b[0m\u001b[1;33m(\u001b[0m\u001b[0mkey\u001b[0m\u001b[1;33m,\u001b[0m \u001b[0maxis\u001b[0m\u001b[1;33m=\u001b[0m\u001b[0maxis\u001b[0m\u001b[1;33m)\u001b[0m\u001b[1;33m:\u001b[0m\u001b[1;33m\u001b[0m\u001b[1;33m\u001b[0m\u001b[0m\n\u001b[0;32m   1776\u001b[0m             \u001b[0mvalues\u001b[0m \u001b[1;33m=\u001b[0m \u001b[0mself\u001b[0m\u001b[1;33m.\u001b[0m\u001b[0maxes\u001b[0m\u001b[1;33m[\u001b[0m\u001b[0maxis\u001b[0m\u001b[1;33m]\u001b[0m\u001b[1;33m.\u001b[0m\u001b[0mget_level_values\u001b[0m\u001b[1;33m(\u001b[0m\u001b[0mkey\u001b[0m\u001b[1;33m)\u001b[0m\u001b[1;33m.\u001b[0m\u001b[0m_values\u001b[0m\u001b[1;33m\u001b[0m\u001b[1;33m\u001b[0m\u001b[0m\n\u001b[0;32m   1777\u001b[0m         \u001b[1;32melse\u001b[0m\u001b[1;33m:\u001b[0m\u001b[1;33m\u001b[0m\u001b[1;33m\u001b[0m\u001b[0m\n\u001b[1;32m-> 1778\u001b[1;33m             \u001b[1;32mraise\u001b[0m \u001b[0mKeyError\u001b[0m\u001b[1;33m(\u001b[0m\u001b[0mkey\u001b[0m\u001b[1;33m)\u001b[0m\u001b[1;33m\u001b[0m\u001b[1;33m\u001b[0m\u001b[0m\n\u001b[0m\u001b[0;32m   1779\u001b[0m \u001b[1;33m\u001b[0m\u001b[0m\n\u001b[0;32m   1780\u001b[0m         \u001b[1;31m# Check for duplicates\u001b[0m\u001b[1;33m\u001b[0m\u001b[1;33m\u001b[0m\u001b[0m\n\u001b[0;32m   1781\u001b[0m         \u001b[1;32mif\u001b[0m \u001b[0mvalues\u001b[0m\u001b[1;33m.\u001b[0m\u001b[0mndim\u001b[0m \u001b[1;33m>\u001b[0m \u001b[1;36m1\u001b[0m\u001b[1;33m:\u001b[0m\u001b[1;33m\u001b[0m\u001b[1;33m\u001b[0m\u001b[0m\n",
      "\u001b[1;31mKeyError\u001b[0m: 'artist_id'"
     ]
    }
   ],
   "source": [
    "#join artist and related artist to merge info\n",
    "df_related_artists = pd.merge(df_related_artists, df_artist, on='artist_id')\n",
    "df_related_artists"
   ]
  },
  {
   "cell_type": "code",
   "execution_count": null,
   "id": "100ab892",
   "metadata": {},
   "outputs": [],
   "source": []
  },
  {
   "cell_type": "markdown",
   "id": "98827be6",
   "metadata": {},
   "source": [
    "---\n",
    "\n",
    "### Bonus track!!!\n",
    "\n",
    "You can publish your own Playlist with [`/playlists`](https://developer.spotify.com/documentation/web-api/reference/#/operations/create-playlist) and [`/tracks`](https://developer.spotify.com/documentation/web-api/reference/#/operations/add-tracks-to-playlist).\n",
    "\n",
    "![I quit](https://media.giphy.com/media/gui67fZ3xIneM/giphy.gif)"
   ]
  },
  {
   "cell_type": "code",
   "execution_count": null,
   "id": "2e5f0905",
   "metadata": {},
   "outputs": [],
   "source": [
    "# Bonus\n",
    "\n",
    "\n"
   ]
  },
  {
   "cell_type": "markdown",
   "id": "9436b623",
   "metadata": {},
   "source": [
    "---"
   ]
  },
  {
   "cell_type": "markdown",
   "id": "a9487ef7",
   "metadata": {},
   "source": [
    "You can always try with the [wrapper](https://github.com/plamere/spotipy)!!!\n",
    "\n",
    "![I quit](https://media.giphy.com/media/3oFzlXPvXYZ4q8VQOs/giphy.gif)"
   ]
  },
  {
   "cell_type": "markdown",
   "id": "0a399ce8",
   "metadata": {},
   "source": [
    "---"
   ]
  }
 ],
 "metadata": {
  "kernelspec": {
   "display_name": "Python (m1_env)",
   "language": "python",
   "name": "m1_env"
  },
  "language_info": {
   "codemirror_mode": {
    "name": "ipython",
    "version": 3
   },
   "file_extension": ".py",
   "mimetype": "text/x-python",
   "name": "python",
   "nbconvert_exporter": "python",
   "pygments_lexer": "ipython3",
   "version": "3.10.13"
  }
 },
 "nbformat": 4,
 "nbformat_minor": 5
}
